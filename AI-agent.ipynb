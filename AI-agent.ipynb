{
 "cells": [
  {
   "cell_type": "code",
   "execution_count": null,
   "id": "318391d4",
   "metadata": {},
   "outputs": [
    {
     "name": "stdout",
     "output_type": "stream",
     "text": [
      "Occurrences in column 'admission_type':\n",
      "\n",
      "admission_type\n",
      "Emergency    4952\n",
      "Urgent       3914\n",
      "Elective     3818\n",
      "Name: count, dtype: int64\n"
     ]
    }
   ],
   "source": [
    "import pandas as pd\n",
    "\n",
    "file_path = \"HealthCare_Claims.xlsx\"  \n",
    "df = pd.read_excel(file_path)\n",
    "\n",
    "column_name = \"admission_type\" \n",
    "\n",
    "value_counts = df[column_name].value_counts()\n",
    "\n",
    "print(f\"Occurrences in column '{column_name}':\\n\")\n",
    "print(value_counts)\n"
   ]
  },
  {
   "cell_type": "code",
   "execution_count": null,
   "id": "aecfe394",
   "metadata": {},
   "outputs": [
    {
     "name": "stdout",
     "output_type": "stream",
     "text": [
      "Top 3 values:\n",
      "[614988.22, 114975.76, 114974.775]\n"
     ]
    }
   ],
   "source": [
    "top3 = df['billing_amount'].nlargest(3)\n",
    "\n",
    "print(\"Top 3 values:\")\n",
    "print(top3.tolist())"
   ]
  }
 ],
 "metadata": {
  "kernelspec": {
   "display_name": "Python 3",
   "language": "python",
   "name": "python3"
  },
  "language_info": {
   "codemirror_mode": {
    "name": "ipython",
    "version": 3
   },
   "file_extension": ".py",
   "mimetype": "text/x-python",
   "name": "python",
   "nbconvert_exporter": "python",
   "pygments_lexer": "ipython3",
   "version": "3.11.4"
  }
 },
 "nbformat": 4,
 "nbformat_minor": 5
}
